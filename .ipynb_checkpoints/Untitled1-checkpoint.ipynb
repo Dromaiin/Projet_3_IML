{
 "cells": [
  {
   "cell_type": "code",
   "execution_count": 12,
   "id": "35c1934c",
   "metadata": {},
   "outputs": [],
   "source": [
    "import pandas as pd\n",
    "import numpy as np\n",
    "import matplotlib.pyplot as plt\n",
    "import seaborn as sns"
   ]
  },
  {
   "cell_type": "code",
   "execution_count": 13,
   "id": "ed64628b",
   "metadata": {},
   "outputs": [],
   "source": [
    "# Création d'une fonction pour supprimer les valeurs manquantes par colonne\n",
    "def supprimer_colonne_vide(data : pd.DataFrame , pourcentage_val_manquantes : float) -> pd.DataFrame:\n",
    "    \"\"\"\n",
    "    Fonction pour supprimer des colonnes en spécifiant le pourcentage de valeurs manquantes dans la colonne\n",
    "    \"\"\"\n",
    "    colonne_a_garder = []\n",
    "    for colonne in data.columns:\n",
    "        if data[colonne].isna().sum()/data.shape[0] <= pourcentage_val_manquantes:\n",
    "            colonne_a_garder.append(colonne)\n",
    "    return data[colonne_a_garder]\n",
    "\n",
    "# Création fonction pour observer les valeurs manquantes par colonne\n",
    "def pourcentage_val_manquantes(data : pd.DataFrame):\n",
    "    \"\"\"\n",
    "    Fonction qui sort un DataFrame avec 3 colonnes, les variables, le pourcentage de valeurs manquantes par variable et le nombre de valeurs manquantes\n",
    "    \"\"\"\n",
    "    dataframe = pd.DataFrame(columns=['Variable', 'Pourcentage_valeurs_manquantes','Valeurs_manquantes'])\n",
    "    dataframe['Variable'] = data.columns\n",
    "    val_manquantes = list()\n",
    "    val_manquantes_pourcentage = list()\n",
    "    for col in data.columns:\n",
    "        val1 = data[col].isna().sum().sum()\n",
    "        val2 = data[col].isna().sum()/data.shape[0]\n",
    "        val_manquantes.append(val1)\n",
    "        val_manquantes_pourcentage.append(val2)\n",
    "    dataframe['Pourcentage_valeurs_manquantes'] = list(val_manquantes_pourcentage)\n",
    "    dataframe['Valeurs_manquantes'] = list(val_manquantes)\n",
    "        \n",
    "    return dataframe.sort_values(by = 'Pourcentage_valeurs_manquantes', ascending = False)\n",
    "\n",
    "# Création fonction pour observer sous forme de graphique en bar le % de valeurs manquantes par colonne\n",
    "def plot_pourcentage_val_manquantes_par_variable(data: pd.DataFrame, sample=False):\n",
    "    \"\"\"\n",
    "    Mettre un échantillon du jeu de données si le dataset est trop lourd\n",
    "    Permet d'afficher le pourcentage de valeur manquantes/non manquantes par variable sous forme de graphique en bar\n",
    "    \"\"\"\n",
    "    if sample:\n",
    "        subdata = data.sample(frac=0.5)\n",
    "    else:\n",
    "        subdata = data\n",
    "    sns.displot(data=subdata.isna().melt(value_name=\"missing\"),y=\"variable\",hue=\"missing\",multiple=\"fill\",aspect=3.25)\n",
    "    plt.gcf().set_size_inches(20, 30)\n",
    "\n",
    "\n",
    "#Remplacer valeur manquantes pas un string\n",
    "def remplacer_valeurs_manquantes_string(data: pd.DataFrame, colonne: str, valeur: str) -> pd.DataFrame:\n",
    "    \"\"\"\n",
    "    Renseigner le jeu de données ainsi que la colonne dans laquelle on veut remplacer les valeurs. Enfin, il faut écrire par quoi on veut remplacer les valeurs manquantes\n",
    "    \"\"\"\n",
    "    data[colonne] = data[colonne].fillna(valeur)"
   ]
  }
 ],
 "metadata": {
  "kernelspec": {
   "display_name": "Python 3 (ipykernel)",
   "language": "python",
   "name": "python3"
  },
  "language_info": {
   "codemirror_mode": {
    "name": "ipython",
    "version": 3
   },
   "file_extension": ".py",
   "mimetype": "text/x-python",
   "name": "python",
   "nbconvert_exporter": "python",
   "pygments_lexer": "ipython3",
   "version": "3.9.12"
  }
 },
 "nbformat": 4,
 "nbformat_minor": 5
}
